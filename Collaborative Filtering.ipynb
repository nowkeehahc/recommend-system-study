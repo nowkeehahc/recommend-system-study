{
 "cells": [
  {
   "cell_type": "code",
   "execution_count": 12,
   "id": "37cd790a",
   "metadata": {},
   "outputs": [
    {
     "name": "stdout",
     "output_type": "stream",
     "text": [
      "Recommended movies:\n",
      "                                                 title  score\n",
      "536                             Denise Calls Up (1995)   5.00\n",
      "87                Heidi Fleiss: Hollywood Madam (1995)   5.00\n",
      "531          Thin Line Between Love and Hate, A (1996)   5.00\n",
      "48                                     Lamerica (1994)   5.00\n",
      "433                        What Happened Was... (1994)   5.00\n",
      "405                             Live Nude Girls (1995)   5.00\n",
      "432  In the Realm of the Senses (Ai no corrida) (1976)   5.00\n",
      "121                   Awfully Big Adventure, An (1995)   5.00\n",
      "557             World of Apu, The (Apur Sansar) (1959)   4.75\n",
      "441                                     Orlando (1992)   4.50\n"
     ]
    }
   ],
   "source": [
    "import pandas as pd\n",
    "from sklearn.metrics.pairwise import pairwise_distances\n",
    "\n",
    "# Load the ratings data\n",
    "ratings = pd.read_csv('ratings.csv')\n",
    "\n",
    "# Load the movies data\n",
    "movies = pd.read_csv('movies.csv')\n",
    "\n",
    "# Create a user-item matrix\n",
    "user_item_matrix = ratings.pivot_table(index='userId', columns='movieId', values='rating')\n",
    "\n",
    "# Calculate the cosine similarity between users\n",
    "user_similarity = 1 - pairwise_distances(user_item_matrix.fillna(0), metric='cosine')\n",
    "\n",
    "# Choose the top K most similar users to user A\n",
    "k = 10\n",
    "similar_users = user_similarity.argsort()[:,::-1][:,:k+1][:,1:]\n",
    "valid_users = user_item_matrix.columns.isin(user_item_matrix.columns[similar_users.flatten()])\n",
    "movies_not_seen_by_a = user_item_matrix.loc[1, valid_users].isnull()\n",
    "\n",
    "# Calculate the recommendation scores for all items\n",
    "movie_scores = user_item_matrix.mean().where(movies_not_seen_by_a, other=0)\n",
    "\n",
    "# Join the movie titles to the recommendation scores\n",
    "recommended_movies = pd.merge(movies, pd.DataFrame(movie_scores), left_on='movieId', right_index=True)\n",
    "recommended_movies = recommended_movies.sort_values(by=0, ascending=False).head(10)\n",
    "recommended_movies = recommended_movies[['title', 0]].rename(columns={0: 'score'})\n",
    "\n",
    "# Print the recommended movies\n",
    "print(\"Recommended movies:\")\n",
    "print(recommended_movies)"
   ]
  }
 ],
 "metadata": {
  "kernelspec": {
   "display_name": "Python 3 (ipykernel)",
   "language": "python",
   "name": "python3"
  },
  "language_info": {
   "codemirror_mode": {
    "name": "ipython",
    "version": 3
   },
   "file_extension": ".py",
   "mimetype": "text/x-python",
   "name": "python",
   "nbconvert_exporter": "python",
   "pygments_lexer": "ipython3",
   "version": "3.9.13"
  }
 },
 "nbformat": 4,
 "nbformat_minor": 5
}
